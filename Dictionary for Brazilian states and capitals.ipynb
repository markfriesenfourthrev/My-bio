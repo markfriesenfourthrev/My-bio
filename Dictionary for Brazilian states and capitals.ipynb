{
 "cells": [
  {
   "cell_type": "markdown",
   "metadata": {},
   "source": [
    "### List of of the Brazilian states "
   ]
  },
  {
   "cell_type": "code",
   "execution_count": 7,
   "metadata": {},
   "outputs": [],
   "source": [
    "states = [\"Acre\", \"Alogoas\", \"Amapa\", \"Amazonas\", \"Bahia\", \"Ceara\", \"Distrito Federal\", \"Espirito Santo\", \"Goiás\", \"Maranhao\", \"Mato grosso\", \"Mato grosso do sul\", \"Minas gerais\", \"Para\", \"Paraiba\", \"Parana\", \"Pernambuco\", \"Piaui\", \"Rio de Janeiro\", \"Rio Grande do norte\", \"Rio Grande do Sul\", \"Rondonia\", \"Roraima\", \"Santa Catarina\", \"Sao Paulo\", \"Sergipe\", \"Tocantins\"]"
   ]
  },
  {
   "cell_type": "markdown",
   "metadata": {},
   "source": [
    "### List of of the Brazilian capitals "
   ]
  },
  {
   "cell_type": "code",
   "execution_count": 8,
   "metadata": {},
   "outputs": [],
   "source": [
    "capitals = [\"Rio Branco\", \"Maceió\" \"Macapá\", \"Manaus\", \"Salvador\", \"Fortaleza\", \"Brasília\", \"Vitória\", \"Goiânia\", \"São Luís\", \"Cuiabá\", \"Campo Grande\",\"Belo Horizonte\",\"Belém\",\"João Pessoa\", \"Curitiba\", \"Recife\", \"Teresina\", \"Rio de Janeiro\", \"Natal\", \"Porto Alegre\", \"Porto Velho\", \"Boa Vista\", \"Florianópolis\", \"São Paulo\", \"Aracaju\", \"Palmas\"]"
   ]
  },
  {
   "cell_type": "markdown",
   "metadata": {},
   "source": [
    "### Dictionary of the Brazilian states and their capitals \n",
    "\n",
    "(NOTE: We have only provided you with the first five states. You will need to complete the dictimary by keying in the rest of the states and their captials.)"
   ]
  },
  {
   "cell_type": "code",
   "execution_count": 9,
   "metadata": {},
   "outputs": [],
   "source": [
    "brazil = {\"Acre\":\"Rio Branco\",\n",
    "          \"Alogoas\":\"Maceió\",\n",
    "          \"Amapa\":\"Macapá\",\n",
    "          \"Amazonas\":\"Manaus\",\n",
    "         \"Bahia\":\"Salvador\"}"
   ]
  },
  {
   "cell_type": "markdown",
   "metadata": {},
   "source": [
    "### Codes to return the capitals for Amazonas, Goiás, and Rio de Janeiro."
   ]
  },
  {
   "cell_type": "code",
   "execution_count": 10,
   "metadata": {},
   "outputs": [
    {
     "data": {
      "text/plain": [
       "'Rio Branco'"
      ]
     },
     "execution_count": 10,
     "metadata": {},
     "output_type": "execute_result"
    }
   ],
   "source": [
    "brazil [\"Amazonas\"]"
   ]
  },
  {
   "cell_type": "code",
   "execution_count": null,
   "metadata": {},
   "outputs": [],
   "source": [
    "brazil ['Goiás']"
   ]
  },
  {
   "cell_type": "code",
   "execution_count": null,
   "metadata": {},
   "outputs": [],
   "source": [
    "brazil ['Rio de Janeiro']"
   ]
  },
  {
   "cell_type": "markdown",
   "metadata": {},
   "source": [
    "### Length of the dictionary"
   ]
  },
  {
   "cell_type": "code",
   "execution_count": null,
   "metadata": {},
   "outputs": [],
   "source": [
    "print(\"len() method :\", len(brazil))"
   ]
  }
 ],
 "metadata": {
  "kernelspec": {
   "display_name": "Python 3",
   "language": "python",
   "name": "python3"
  },
  "language_info": {
   "codemirror_mode": {
    "name": "ipython",
    "version": 3
   },
   "file_extension": ".py",
   "mimetype": "text/x-python",
   "name": "python",
   "nbconvert_exporter": "python",
   "pygments_lexer": "ipython3",
   "version": "3.8.3"
  }
 },
 "nbformat": 4,
 "nbformat_minor": 4
}
